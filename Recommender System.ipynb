{
 "cells": [
  {
   "cell_type": "markdown",
   "id": "textile-extraction",
   "metadata": {},
   "source": [
    "This is an attempt to make a recommender system for women's cloths shopping. Dataset taken is over 23,000 reviews of women clothing product and 3 algorithms are used to find the most recommended item."
   ]
  },
  {
   "cell_type": "code",
   "execution_count": 64,
   "id": "unlimited-appendix",
   "metadata": {},
   "outputs": [],
   "source": [
    "import numpy as np\n",
    "import pandas as pd \n",
    "import os\n",
    "import seaborn as sns\n",
    "import math\n",
    "import json\n",
    "import time\n",
    "from sklearn.metrics.pairwise import cosine_similarity\n",
    "from sklearn.model_selection import train_test_split\n",
    "from sklearn.neighbors import NearestNeighbors\n",
    "import joblib\n",
    "import scipy.sparse\n",
    "from scipy.sparse import csr_matrix\n",
    "from scipy.sparse.linalg import svds\n",
    "import warnings; warnings.simplefilter('ignore')\n",
    "import matplotlib.pyplot as plt\n",
    "%matplotlib inline"
   ]
  },
  {
   "cell_type": "code",
   "execution_count": 119,
   "id": "suffering-lease",
   "metadata": {},
   "outputs": [
    {
     "name": "stdout",
     "output_type": "stream",
     "text": [
      "Index(['Unnamed: 0', 'Clothing ID', 'Age', 'Title', 'Review Text', 'Rating',\n",
      "       'Recommended IND', 'Positive Feedback Count', 'Division Name',\n",
      "       'Department Name', 'Class Name'],\n",
      "      dtype='object')\n"
     ]
    },
    {
     "data": {
      "text/html": [
       "<div>\n",
       "<style scoped>\n",
       "    .dataframe tbody tr th:only-of-type {\n",
       "        vertical-align: middle;\n",
       "    }\n",
       "\n",
       "    .dataframe tbody tr th {\n",
       "        vertical-align: top;\n",
       "    }\n",
       "\n",
       "    .dataframe thead th {\n",
       "        text-align: right;\n",
       "    }\n",
       "</style>\n",
       "<table border=\"1\" class=\"dataframe\">\n",
       "  <thead>\n",
       "    <tr style=\"text-align: right;\">\n",
       "      <th></th>\n",
       "      <th>userId</th>\n",
       "      <th>Clothing ID</th>\n",
       "      <th>Age</th>\n",
       "      <th>Title</th>\n",
       "      <th>Review Text</th>\n",
       "      <th>Rating</th>\n",
       "      <th>Positive Feedback Count</th>\n",
       "      <th>Division Name</th>\n",
       "      <th>Department Name</th>\n",
       "      <th>Class Name</th>\n",
       "    </tr>\n",
       "  </thead>\n",
       "  <tbody>\n",
       "    <tr>\n",
       "      <th>0</th>\n",
       "      <td>0</td>\n",
       "      <td>767</td>\n",
       "      <td>33</td>\n",
       "      <td>NaN</td>\n",
       "      <td>Absolutely wonderful - silky and sexy and comf...</td>\n",
       "      <td>4</td>\n",
       "      <td>0</td>\n",
       "      <td>Initmates</td>\n",
       "      <td>Intimate</td>\n",
       "      <td>Intimates</td>\n",
       "    </tr>\n",
       "    <tr>\n",
       "      <th>1</th>\n",
       "      <td>1</td>\n",
       "      <td>1080</td>\n",
       "      <td>34</td>\n",
       "      <td>NaN</td>\n",
       "      <td>Love this dress!  it's sooo pretty.  i happene...</td>\n",
       "      <td>5</td>\n",
       "      <td>4</td>\n",
       "      <td>General</td>\n",
       "      <td>Dresses</td>\n",
       "      <td>Dresses</td>\n",
       "    </tr>\n",
       "    <tr>\n",
       "      <th>2</th>\n",
       "      <td>2</td>\n",
       "      <td>1077</td>\n",
       "      <td>60</td>\n",
       "      <td>Some major design flaws</td>\n",
       "      <td>I had such high hopes for this dress and reall...</td>\n",
       "      <td>3</td>\n",
       "      <td>0</td>\n",
       "      <td>General</td>\n",
       "      <td>Dresses</td>\n",
       "      <td>Dresses</td>\n",
       "    </tr>\n",
       "    <tr>\n",
       "      <th>3</th>\n",
       "      <td>3</td>\n",
       "      <td>1049</td>\n",
       "      <td>50</td>\n",
       "      <td>My favorite buy!</td>\n",
       "      <td>I love, love, love this jumpsuit. it's fun, fl...</td>\n",
       "      <td>5</td>\n",
       "      <td>0</td>\n",
       "      <td>General Petite</td>\n",
       "      <td>Bottoms</td>\n",
       "      <td>Pants</td>\n",
       "    </tr>\n",
       "    <tr>\n",
       "      <th>4</th>\n",
       "      <td>4</td>\n",
       "      <td>847</td>\n",
       "      <td>47</td>\n",
       "      <td>Flattering shirt</td>\n",
       "      <td>This shirt is very flattering to all due to th...</td>\n",
       "      <td>5</td>\n",
       "      <td>6</td>\n",
       "      <td>General</td>\n",
       "      <td>Tops</td>\n",
       "      <td>Blouses</td>\n",
       "    </tr>\n",
       "    <tr>\n",
       "      <th>...</th>\n",
       "      <td>...</td>\n",
       "      <td>...</td>\n",
       "      <td>...</td>\n",
       "      <td>...</td>\n",
       "      <td>...</td>\n",
       "      <td>...</td>\n",
       "      <td>...</td>\n",
       "      <td>...</td>\n",
       "      <td>...</td>\n",
       "      <td>...</td>\n",
       "    </tr>\n",
       "    <tr>\n",
       "      <th>23481</th>\n",
       "      <td>23481</td>\n",
       "      <td>1104</td>\n",
       "      <td>34</td>\n",
       "      <td>Great dress for many occasions</td>\n",
       "      <td>I was very happy to snag this dress at such a ...</td>\n",
       "      <td>5</td>\n",
       "      <td>0</td>\n",
       "      <td>General Petite</td>\n",
       "      <td>Dresses</td>\n",
       "      <td>Dresses</td>\n",
       "    </tr>\n",
       "    <tr>\n",
       "      <th>23482</th>\n",
       "      <td>23482</td>\n",
       "      <td>862</td>\n",
       "      <td>48</td>\n",
       "      <td>Wish it was made of cotton</td>\n",
       "      <td>It reminds me of maternity clothes. soft, stre...</td>\n",
       "      <td>3</td>\n",
       "      <td>0</td>\n",
       "      <td>General Petite</td>\n",
       "      <td>Tops</td>\n",
       "      <td>Knits</td>\n",
       "    </tr>\n",
       "    <tr>\n",
       "      <th>23483</th>\n",
       "      <td>23483</td>\n",
       "      <td>1104</td>\n",
       "      <td>31</td>\n",
       "      <td>Cute, but see through</td>\n",
       "      <td>This fit well, but the top was very see throug...</td>\n",
       "      <td>3</td>\n",
       "      <td>1</td>\n",
       "      <td>General Petite</td>\n",
       "      <td>Dresses</td>\n",
       "      <td>Dresses</td>\n",
       "    </tr>\n",
       "    <tr>\n",
       "      <th>23484</th>\n",
       "      <td>23484</td>\n",
       "      <td>1084</td>\n",
       "      <td>28</td>\n",
       "      <td>Very cute dress, perfect for summer parties an...</td>\n",
       "      <td>I bought this dress for a wedding i have this ...</td>\n",
       "      <td>3</td>\n",
       "      <td>2</td>\n",
       "      <td>General</td>\n",
       "      <td>Dresses</td>\n",
       "      <td>Dresses</td>\n",
       "    </tr>\n",
       "    <tr>\n",
       "      <th>23485</th>\n",
       "      <td>23485</td>\n",
       "      <td>1104</td>\n",
       "      <td>52</td>\n",
       "      <td>Please make more like this one!</td>\n",
       "      <td>This dress in a lovely platinum is feminine an...</td>\n",
       "      <td>5</td>\n",
       "      <td>22</td>\n",
       "      <td>General Petite</td>\n",
       "      <td>Dresses</td>\n",
       "      <td>Dresses</td>\n",
       "    </tr>\n",
       "  </tbody>\n",
       "</table>\n",
       "<p>23486 rows × 10 columns</p>\n",
       "</div>"
      ],
      "text/plain": [
       "       userId  Clothing ID  Age  \\\n",
       "0           0          767   33   \n",
       "1           1         1080   34   \n",
       "2           2         1077   60   \n",
       "3           3         1049   50   \n",
       "4           4          847   47   \n",
       "...       ...          ...  ...   \n",
       "23481   23481         1104   34   \n",
       "23482   23482          862   48   \n",
       "23483   23483         1104   31   \n",
       "23484   23484         1084   28   \n",
       "23485   23485         1104   52   \n",
       "\n",
       "                                                   Title  \\\n",
       "0                                                    NaN   \n",
       "1                                                    NaN   \n",
       "2                                Some major design flaws   \n",
       "3                                       My favorite buy!   \n",
       "4                                       Flattering shirt   \n",
       "...                                                  ...   \n",
       "23481                     Great dress for many occasions   \n",
       "23482                         Wish it was made of cotton   \n",
       "23483                              Cute, but see through   \n",
       "23484  Very cute dress, perfect for summer parties an...   \n",
       "23485                    Please make more like this one!   \n",
       "\n",
       "                                             Review Text  Rating  \\\n",
       "0      Absolutely wonderful - silky and sexy and comf...       4   \n",
       "1      Love this dress!  it's sooo pretty.  i happene...       5   \n",
       "2      I had such high hopes for this dress and reall...       3   \n",
       "3      I love, love, love this jumpsuit. it's fun, fl...       5   \n",
       "4      This shirt is very flattering to all due to th...       5   \n",
       "...                                                  ...     ...   \n",
       "23481  I was very happy to snag this dress at such a ...       5   \n",
       "23482  It reminds me of maternity clothes. soft, stre...       3   \n",
       "23483  This fit well, but the top was very see throug...       3   \n",
       "23484  I bought this dress for a wedding i have this ...       3   \n",
       "23485  This dress in a lovely platinum is feminine an...       5   \n",
       "\n",
       "       Positive Feedback Count   Division Name Department Name Class Name  \n",
       "0                            0       Initmates        Intimate  Intimates  \n",
       "1                            4         General         Dresses    Dresses  \n",
       "2                            0         General         Dresses    Dresses  \n",
       "3                            0  General Petite         Bottoms      Pants  \n",
       "4                            6         General            Tops    Blouses  \n",
       "...                        ...             ...             ...        ...  \n",
       "23481                        0  General Petite         Dresses    Dresses  \n",
       "23482                        0  General Petite            Tops      Knits  \n",
       "23483                        1  General Petite         Dresses    Dresses  \n",
       "23484                        2         General         Dresses    Dresses  \n",
       "23485                       22  General Petite         Dresses    Dresses  \n",
       "\n",
       "[23486 rows x 10 columns]"
      ]
     },
     "execution_count": 119,
     "metadata": {},
     "output_type": "execute_result"
    }
   ],
   "source": [
    "data = pd.read_csv(\"review.csv\")\n",
    "print(data.columns)\n",
    "data.rename(columns = {'Unnamed: 0':'userId'}, inplace = True)\n",
    "data\n"
   ]
  },
  {
   "cell_type": "code",
   "execution_count": 120,
   "id": "unique-emission",
   "metadata": {},
   "outputs": [
    {
     "name": "stdout",
     "output_type": "stream",
     "text": [
      "(23486, 10)\n",
      "       Clothing ID  Age  Rating\n",
      "0              767   33       4\n",
      "1             1080   34       5\n",
      "2             1077   60       3\n",
      "3             1049   50       5\n",
      "4              847   47       5\n",
      "...            ...  ...     ...\n",
      "23481         1104   34       5\n",
      "23482          862   48       3\n",
      "23483         1104   31       3\n",
      "23484         1084   28       3\n",
      "23485         1104   52       5\n",
      "\n",
      "[23486 rows x 3 columns]\n"
     ]
    }
   ],
   "source": [
    "print(data.shape)\n",
    "df = data[['Clothing ID', 'Age', 'Rating']]\n",
    "print(df)"
   ]
  },
  {
   "cell_type": "code",
   "execution_count": 67,
   "id": "boolean-discrimination",
   "metadata": {
    "scrolled": true
   },
   "outputs": [
    {
     "name": "stdout",
     "output_type": "stream",
     "text": [
      "\n",
      "Total no of ratings : 23486\n",
      "Total No of products  : 1206\n"
     ]
    },
    {
     "data": {
      "text/html": [
       "<div>\n",
       "<style scoped>\n",
       "    .dataframe tbody tr th:only-of-type {\n",
       "        vertical-align: middle;\n",
       "    }\n",
       "\n",
       "    .dataframe tbody tr th {\n",
       "        vertical-align: top;\n",
       "    }\n",
       "\n",
       "    .dataframe thead th {\n",
       "        text-align: right;\n",
       "    }\n",
       "</style>\n",
       "<table border=\"1\" class=\"dataframe\">\n",
       "  <thead>\n",
       "    <tr style=\"text-align: right;\">\n",
       "      <th></th>\n",
       "      <th>mean</th>\n",
       "      <th>count</th>\n",
       "    </tr>\n",
       "    <tr>\n",
       "      <th>Clothing ID</th>\n",
       "      <th></th>\n",
       "      <th></th>\n",
       "    </tr>\n",
       "  </thead>\n",
       "  <tbody>\n",
       "    <tr>\n",
       "      <th>1078</th>\n",
       "      <td>4.204102</td>\n",
       "      <td>1024</td>\n",
       "    </tr>\n",
       "    <tr>\n",
       "      <th>862</th>\n",
       "      <td>4.200993</td>\n",
       "      <td>806</td>\n",
       "    </tr>\n",
       "    <tr>\n",
       "      <th>1094</th>\n",
       "      <td>4.189153</td>\n",
       "      <td>756</td>\n",
       "    </tr>\n",
       "    <tr>\n",
       "      <th>1081</th>\n",
       "      <td>4.281787</td>\n",
       "      <td>582</td>\n",
       "    </tr>\n",
       "    <tr>\n",
       "      <th>872</th>\n",
       "      <td>4.383486</td>\n",
       "      <td>545</td>\n",
       "    </tr>\n",
       "    <tr>\n",
       "      <th>829</th>\n",
       "      <td>4.193548</td>\n",
       "      <td>527</td>\n",
       "    </tr>\n",
       "    <tr>\n",
       "      <th>1110</th>\n",
       "      <td>4.281250</td>\n",
       "      <td>480</td>\n",
       "    </tr>\n",
       "    <tr>\n",
       "      <th>868</th>\n",
       "      <td>3.946512</td>\n",
       "      <td>430</td>\n",
       "    </tr>\n",
       "    <tr>\n",
       "      <th>895</th>\n",
       "      <td>4.299505</td>\n",
       "      <td>404</td>\n",
       "    </tr>\n",
       "    <tr>\n",
       "      <th>936</th>\n",
       "      <td>4.326816</td>\n",
       "      <td>358</td>\n",
       "    </tr>\n",
       "    <tr>\n",
       "      <th>867</th>\n",
       "      <td>4.111111</td>\n",
       "      <td>351</td>\n",
       "    </tr>\n",
       "    <tr>\n",
       "      <th>850</th>\n",
       "      <td>4.307692</td>\n",
       "      <td>338</td>\n",
       "    </tr>\n",
       "    <tr>\n",
       "      <th>1095</th>\n",
       "      <td>4.051988</td>\n",
       "      <td>327</td>\n",
       "    </tr>\n",
       "    <tr>\n",
       "      <th>863</th>\n",
       "      <td>4.310458</td>\n",
       "      <td>306</td>\n",
       "    </tr>\n",
       "    <tr>\n",
       "      <th>1077</th>\n",
       "      <td>4.084175</td>\n",
       "      <td>297</td>\n",
       "    </tr>\n",
       "    <tr>\n",
       "      <th>1059</th>\n",
       "      <td>4.292517</td>\n",
       "      <td>294</td>\n",
       "    </tr>\n",
       "    <tr>\n",
       "      <th>1086</th>\n",
       "      <td>4.230241</td>\n",
       "      <td>291</td>\n",
       "    </tr>\n",
       "    <tr>\n",
       "      <th>1080</th>\n",
       "      <td>4.294118</td>\n",
       "      <td>289</td>\n",
       "    </tr>\n",
       "    <tr>\n",
       "      <th>860</th>\n",
       "      <td>4.093750</td>\n",
       "      <td>288</td>\n",
       "    </tr>\n",
       "    <tr>\n",
       "      <th>1083</th>\n",
       "      <td>4.357430</td>\n",
       "      <td>249</td>\n",
       "    </tr>\n",
       "  </tbody>\n",
       "</table>\n",
       "</div>"
      ],
      "text/plain": [
       "                 mean  count\n",
       "Clothing ID                 \n",
       "1078         4.204102   1024\n",
       "862          4.200993    806\n",
       "1094         4.189153    756\n",
       "1081         4.281787    582\n",
       "872          4.383486    545\n",
       "829          4.193548    527\n",
       "1110         4.281250    480\n",
       "868          3.946512    430\n",
       "895          4.299505    404\n",
       "936          4.326816    358\n",
       "867          4.111111    351\n",
       "850          4.307692    338\n",
       "1095         4.051988    327\n",
       "863          4.310458    306\n",
       "1077         4.084175    297\n",
       "1059         4.292517    294\n",
       "1086         4.230241    291\n",
       "1080         4.294118    289\n",
       "860          4.093750    288\n",
       "1083         4.357430    249"
      ]
     },
     "execution_count": 67,
     "metadata": {},
     "output_type": "execute_result"
    }
   ],
   "source": [
    "print(\"\\nTotal no of ratings :\",df.shape[0])\n",
    "print(\"Total No of products  :\", len(np.unique(df['Clothing ID'])))\n",
    "product_rate_mean=pd.DataFrame(df.groupby('Clothing ID')['Rating'].agg(['mean','count']),\n",
    "                            columns=['mean','count']).sort_values(by=['count','mean'],ascending=False)[:20]\n",
    "plot_df = product_rate_mean.head(5)\n",
    "product_rate_mean.head(20)"
   ]
  },
  {
   "cell_type": "code",
   "execution_count": 68,
   "id": "affiliated-foster",
   "metadata": {},
   "outputs": [
    {
     "data": {
      "image/png": "[encoded data removed]",
      "text/plain": [
       "<Figure size 720x432 with 2 Axes>"
      ]
     },
     "metadata": {
      "needs_background": "light"
     },
     "output_type": "display_data"
    }
   ],
   "source": [
    "fig, ax1 = plt.subplots(figsize=(10,6))\n",
    "ax1.bar(plot_df.index,plot_df['count'],color='black')\n",
    "plt.xticks(rotation=90)\n",
    "ax2 = ax1.twinx()\n",
    "ax2.plot(plot_df.index,plot_df['mean'],color='red')\n",
    "plt.ylim(0, 5)\n",
    "plt.title(\"Top 20 productId and its mean Rating\")\n",
    "plt.show()\n"
   ]
  },
  {
   "cell_type": "code",
   "execution_count": 69,
   "id": "liked-bahrain",
   "metadata": {},
   "outputs": [
    {
     "name": "stdout",
     "output_type": "stream",
     "text": [
      "5    13131\n",
      "4     5077\n",
      "3     2871\n",
      "2     1565\n",
      "1      842\n",
      "Name: Rating, dtype: int64\n"
     ]
    },
    {
     "data": {
      "text/plain": [
       "<seaborn.axisgrid.FacetGrid at 0x1ed7cc0dc08>"
      ]
     },
     "execution_count": 69,
     "metadata": {},
     "output_type": "execute_result"
    },
    {
     "data": {
      "image/png": "[encoded data removed]",
      "text/plain": [
       "<Figure size 360x360 with 1 Axes>"
      ]
     },
     "metadata": {
      "needs_background": "light"
     },
     "output_type": "display_data"
    }
   ],
   "source": [
    "print(df.Rating.value_counts())\n",
    "sns.catplot(\"Rating\",data=df,kind='count')"
   ]
  },
  {
   "cell_type": "markdown",
   "id": "golden-sucking",
   "metadata": {},
   "source": [
    "# Algorithm 1 - Popularity based"
   ]
  },
  {
   "cell_type": "markdown",
   "id": "secure-vitamin",
   "metadata": {},
   "source": [
    "Here all reviews taken per product which has more than 30 reviews in the dataset. Review ratings and count of reviews per product is taken into account to find the most popular item and recommend it to the user"
   ]
  },
  {
   "cell_type": "markdown",
   "id": "hourly-calgary",
   "metadata": {},
   "source": [
    "# Method - 1"
   ]
  },
  {
   "cell_type": "code",
   "execution_count": 70,
   "id": "unexpected-yahoo",
   "metadata": {},
   "outputs": [],
   "source": [
    "new_df=df.groupby(\"Clothing ID\").filter(lambda x:x['Rating'].count() >=30)"
   ]
  },
  {
   "cell_type": "code",
   "execution_count": 71,
   "id": "organic-cylinder",
   "metadata": {},
   "outputs": [
    {
     "data": {
      "text/plain": [
       "(23163, 3)"
      ]
     },
     "execution_count": 71,
     "metadata": {},
     "output_type": "execute_result"
    }
   ],
   "source": []
  },
  {
   "cell_type": "code",
   "execution_count": 72,
   "id": "corrected-search",
   "metadata": {},
   "outputs": [
    {
     "name": "stdout",
     "output_type": "stream",
     "text": [
      "5    12934\n",
      "4     5014\n",
      "3     2843\n",
      "2     1541\n",
      "1      831\n",
      "Name: Rating, dtype: int64\n"
     ]
    },
    {
     "data": {
      "text/plain": [
       "<seaborn.axisgrid.FacetGrid at 0x1ed7ca85a08>"
      ]
     },
     "execution_count": 72,
     "metadata": {},
     "output_type": "execute_result"
    },
    {
     "data": {
      "image/png": "[encoded data removed]",
      "text/plain": [
       "<Figure size 360x360 with 1 Axes>"
      ]
     },
     "metadata": {
      "needs_background": "light"
     },
     "output_type": "display_data"
    }
   ],
   "source": [
    "print(data_final.Rating.value_counts())\n",
    "sns.catplot(\"Rating\",data=data_final,kind='count')"
   ]
  },
  {
   "cell_type": "code",
   "execution_count": 73,
   "id": "outstanding-establishment",
   "metadata": {},
   "outputs": [],
   "source": [
    "processed_data=data_final[data_final['Clothing ID'].isin(data_final['Clothing ID'].value_counts()[data_final['Clothing ID'].value_counts()>=1].index)]\n"
   ]
  },
  {
   "cell_type": "code",
   "execution_count": 74,
   "id": "ordinary-corrections",
   "metadata": {},
   "outputs": [],
   "source": [
    "final_ratings_matrix = pd.pivot_table(processed_data,index='Age',columns='Clothing ID',values = 'Rating').fillna(0)"
   ]
  },
  {
   "cell_type": "code",
   "execution_count": 75,
   "id": "adjustable-nudist",
   "metadata": {},
   "outputs": [
    {
     "name": "stdout",
     "output_type": "stream",
     "text": [
      "(16214, 3)\n",
      "(6949, 3)\n"
     ]
    }
   ],
   "source": [
    "from sklearn.model_selection import train_test_split\n",
    "train_data, test_data = train_test_split(processed_data, test_size = 0.3, random_state=10)\n",
    "print(train_data.shape)\n",
    "print(test_data.shape)"
   ]
  },
  {
   "cell_type": "code",
   "execution_count": 76,
   "id": "daily-electron",
   "metadata": {},
   "outputs": [
    {
     "data": {
      "text/html": [
       "<div>\n",
       "<style scoped>\n",
       "    .dataframe tbody tr th:only-of-type {\n",
       "        vertical-align: middle;\n",
       "    }\n",
       "\n",
       "    .dataframe tbody tr th {\n",
       "        vertical-align: top;\n",
       "    }\n",
       "\n",
       "    .dataframe thead th {\n",
       "        text-align: right;\n",
       "    }\n",
       "</style>\n",
       "<table border=\"1\" class=\"dataframe\">\n",
       "  <thead>\n",
       "    <tr style=\"text-align: right;\">\n",
       "      <th></th>\n",
       "      <th>Clothing ID</th>\n",
       "      <th>count</th>\n",
       "      <th>mean</th>\n",
       "    </tr>\n",
       "  </thead>\n",
       "  <tbody>\n",
       "    <tr>\n",
       "      <th>0</th>\n",
       "      <td>1</td>\n",
       "      <td>3</td>\n",
       "      <td>4.0</td>\n",
       "    </tr>\n",
       "    <tr>\n",
       "      <th>1</th>\n",
       "      <td>2</td>\n",
       "      <td>1</td>\n",
       "      <td>4.0</td>\n",
       "    </tr>\n",
       "    <tr>\n",
       "      <th>2</th>\n",
       "      <td>3</td>\n",
       "      <td>1</td>\n",
       "      <td>5.0</td>\n",
       "    </tr>\n",
       "    <tr>\n",
       "      <th>3</th>\n",
       "      <td>4</td>\n",
       "      <td>1</td>\n",
       "      <td>5.0</td>\n",
       "    </tr>\n",
       "    <tr>\n",
       "      <th>4</th>\n",
       "      <td>5</td>\n",
       "      <td>1</td>\n",
       "      <td>5.0</td>\n",
       "    </tr>\n",
       "  </tbody>\n",
       "</table>\n",
       "</div>"
      ],
      "text/plain": [
       "   Clothing ID  count  mean\n",
       "0            1      3   4.0\n",
       "1            2      1   4.0\n",
       "2            3      1   5.0\n",
       "3            4      1   5.0\n",
       "4            5      1   5.0"
      ]
     },
     "execution_count": 76,
     "metadata": {},
     "output_type": "execute_result"
    }
   ],
   "source": [
    "train_data_grouped = train_data.groupby('Clothing ID').agg({'Age':'count','Rating':'mean'}).reset_index()\n",
    "train_data_grouped.rename(columns={'Age':'count','Rating':'mean'},inplace=True)\n",
    "train_data_grouped.head()"
   ]
  },
  {
   "cell_type": "code",
   "execution_count": 77,
   "id": "northern-harvard",
   "metadata": {},
   "outputs": [
    {
     "data": {
      "text/html": [
       "<div>\n",
       "<style scoped>\n",
       "    .dataframe tbody tr th:only-of-type {\n",
       "        vertical-align: middle;\n",
       "    }\n",
       "\n",
       "    .dataframe tbody tr th {\n",
       "        vertical-align: top;\n",
       "    }\n",
       "\n",
       "    .dataframe thead th {\n",
       "        text-align: right;\n",
       "    }\n",
       "</style>\n",
       "<table border=\"1\" class=\"dataframe\">\n",
       "  <thead>\n",
       "    <tr style=\"text-align: right;\">\n",
       "      <th></th>\n",
       "      <th>Clothing ID</th>\n",
       "      <th>count</th>\n",
       "      <th>mean</th>\n",
       "      <th>Rank</th>\n",
       "    </tr>\n",
       "  </thead>\n",
       "  <tbody>\n",
       "    <tr>\n",
       "      <th>914</th>\n",
       "      <td>1078</td>\n",
       "      <td>671</td>\n",
       "      <td>4.137109</td>\n",
       "      <td>1.0</td>\n",
       "    </tr>\n",
       "    <tr>\n",
       "      <th>708</th>\n",
       "      <td>862</td>\n",
       "      <td>535</td>\n",
       "      <td>4.257944</td>\n",
       "      <td>2.0</td>\n",
       "    </tr>\n",
       "    <tr>\n",
       "      <th>930</th>\n",
       "      <td>1094</td>\n",
       "      <td>523</td>\n",
       "      <td>4.191205</td>\n",
       "      <td>3.0</td>\n",
       "    </tr>\n",
       "    <tr>\n",
       "      <th>917</th>\n",
       "      <td>1081</td>\n",
       "      <td>404</td>\n",
       "      <td>4.262376</td>\n",
       "      <td>4.0</td>\n",
       "    </tr>\n",
       "    <tr>\n",
       "      <th>718</th>\n",
       "      <td>872</td>\n",
       "      <td>378</td>\n",
       "      <td>4.351852</td>\n",
       "      <td>5.0</td>\n",
       "    </tr>\n",
       "  </tbody>\n",
       "</table>\n",
       "</div>"
      ],
      "text/plain": [
       "     Clothing ID  count      mean  Rank\n",
       "914         1078    671  4.137109   1.0\n",
       "708          862    535  4.257944   2.0\n",
       "930         1094    523  4.191205   3.0\n",
       "917         1081    404  4.262376   4.0\n",
       "718          872    378  4.351852   5.0"
      ]
     },
     "execution_count": 77,
     "metadata": {},
     "output_type": "execute_result"
    }
   ],
   "source": [
    "train_data_sort = train_data_grouped.sort_values(['count'], ascending = 0) \n",
    "train_data_sort['Rank'] = train_data_sort['count'].rank(ascending=0, method='first') \n",
    "popularity_recommendations = train_data_sort.head(5) \n",
    "popularity_recommendations"
   ]
  },
  {
   "cell_type": "markdown",
   "id": "earlier-statistics",
   "metadata": {},
   "source": [
    "These are the 5 most top reviewd products, and they are mentioned from 1st to 5th based on their mean rating by all reviewers"
   ]
  },
  {
   "cell_type": "markdown",
   "id": "subtle-athletics",
   "metadata": {},
   "source": [
    "# Algorithm 2 - Model Based CF - Using SVD"
   ]
  },
  {
   "cell_type": "code",
   "execution_count": 78,
   "id": "intense-assets",
   "metadata": {},
   "outputs": [
    {
     "data": {
      "text/html": [
       "<div>\n",
       "<style scoped>\n",
       "    .dataframe tbody tr th:only-of-type {\n",
       "        vertical-align: middle;\n",
       "    }\n",
       "\n",
       "    .dataframe tbody tr th {\n",
       "        vertical-align: top;\n",
       "    }\n",
       "\n",
       "    .dataframe thead th {\n",
       "        text-align: right;\n",
       "    }\n",
       "</style>\n",
       "<table border=\"1\" class=\"dataframe\">\n",
       "  <thead>\n",
       "    <tr style=\"text-align: right;\">\n",
       "      <th>Clothing ID</th>\n",
       "      <th>169</th>\n",
       "      <th>282</th>\n",
       "      <th>520</th>\n",
       "      <th>815</th>\n",
       "      <th>818</th>\n",
       "      <th>819</th>\n",
       "      <th>820</th>\n",
       "      <th>822</th>\n",
       "      <th>823</th>\n",
       "      <th>824</th>\n",
       "      <th>...</th>\n",
       "      <th>1099</th>\n",
       "      <th>1100</th>\n",
       "      <th>1103</th>\n",
       "      <th>1104</th>\n",
       "      <th>1110</th>\n",
       "      <th>1111</th>\n",
       "      <th>1116</th>\n",
       "      <th>1121</th>\n",
       "      <th>1123</th>\n",
       "      <th>1126</th>\n",
       "    </tr>\n",
       "    <tr>\n",
       "      <th>Age</th>\n",
       "      <th></th>\n",
       "      <th></th>\n",
       "      <th></th>\n",
       "      <th></th>\n",
       "      <th></th>\n",
       "      <th></th>\n",
       "      <th></th>\n",
       "      <th></th>\n",
       "      <th></th>\n",
       "      <th></th>\n",
       "      <th></th>\n",
       "      <th></th>\n",
       "      <th></th>\n",
       "      <th></th>\n",
       "      <th></th>\n",
       "      <th></th>\n",
       "      <th></th>\n",
       "      <th></th>\n",
       "      <th></th>\n",
       "      <th></th>\n",
       "      <th></th>\n",
       "    </tr>\n",
       "  </thead>\n",
       "  <tbody>\n",
       "    <tr>\n",
       "      <th>18</th>\n",
       "      <td>0.0</td>\n",
       "      <td>0.0</td>\n",
       "      <td>0.0</td>\n",
       "      <td>0.0</td>\n",
       "      <td>0.0</td>\n",
       "      <td>0.0</td>\n",
       "      <td>0.0</td>\n",
       "      <td>0.0</td>\n",
       "      <td>0.0</td>\n",
       "      <td>0.0</td>\n",
       "      <td>...</td>\n",
       "      <td>0.0</td>\n",
       "      <td>0.0</td>\n",
       "      <td>0.0</td>\n",
       "      <td>0.0</td>\n",
       "      <td>0.00</td>\n",
       "      <td>0.0</td>\n",
       "      <td>0.0</td>\n",
       "      <td>0.0</td>\n",
       "      <td>0.0</td>\n",
       "      <td>0.0</td>\n",
       "    </tr>\n",
       "    <tr>\n",
       "      <th>19</th>\n",
       "      <td>0.0</td>\n",
       "      <td>0.0</td>\n",
       "      <td>5.0</td>\n",
       "      <td>0.0</td>\n",
       "      <td>0.0</td>\n",
       "      <td>0.0</td>\n",
       "      <td>4.0</td>\n",
       "      <td>0.0</td>\n",
       "      <td>0.0</td>\n",
       "      <td>0.0</td>\n",
       "      <td>...</td>\n",
       "      <td>0.0</td>\n",
       "      <td>0.0</td>\n",
       "      <td>0.0</td>\n",
       "      <td>5.0</td>\n",
       "      <td>0.00</td>\n",
       "      <td>0.0</td>\n",
       "      <td>0.0</td>\n",
       "      <td>0.0</td>\n",
       "      <td>0.0</td>\n",
       "      <td>0.0</td>\n",
       "    </tr>\n",
       "    <tr>\n",
       "      <th>20</th>\n",
       "      <td>5.0</td>\n",
       "      <td>0.0</td>\n",
       "      <td>0.0</td>\n",
       "      <td>0.0</td>\n",
       "      <td>0.0</td>\n",
       "      <td>0.0</td>\n",
       "      <td>0.0</td>\n",
       "      <td>0.0</td>\n",
       "      <td>0.0</td>\n",
       "      <td>0.0</td>\n",
       "      <td>...</td>\n",
       "      <td>0.0</td>\n",
       "      <td>0.0</td>\n",
       "      <td>0.0</td>\n",
       "      <td>5.0</td>\n",
       "      <td>4.00</td>\n",
       "      <td>0.0</td>\n",
       "      <td>2.5</td>\n",
       "      <td>5.0</td>\n",
       "      <td>0.0</td>\n",
       "      <td>0.0</td>\n",
       "    </tr>\n",
       "    <tr>\n",
       "      <th>21</th>\n",
       "      <td>0.0</td>\n",
       "      <td>0.0</td>\n",
       "      <td>0.0</td>\n",
       "      <td>0.0</td>\n",
       "      <td>0.0</td>\n",
       "      <td>0.0</td>\n",
       "      <td>4.0</td>\n",
       "      <td>0.0</td>\n",
       "      <td>0.0</td>\n",
       "      <td>1.0</td>\n",
       "      <td>...</td>\n",
       "      <td>0.0</td>\n",
       "      <td>0.0</td>\n",
       "      <td>0.0</td>\n",
       "      <td>5.0</td>\n",
       "      <td>5.00</td>\n",
       "      <td>0.0</td>\n",
       "      <td>0.0</td>\n",
       "      <td>0.0</td>\n",
       "      <td>4.0</td>\n",
       "      <td>0.0</td>\n",
       "    </tr>\n",
       "    <tr>\n",
       "      <th>22</th>\n",
       "      <td>0.0</td>\n",
       "      <td>0.0</td>\n",
       "      <td>0.0</td>\n",
       "      <td>0.0</td>\n",
       "      <td>0.0</td>\n",
       "      <td>5.0</td>\n",
       "      <td>0.0</td>\n",
       "      <td>0.0</td>\n",
       "      <td>5.0</td>\n",
       "      <td>0.0</td>\n",
       "      <td>...</td>\n",
       "      <td>5.0</td>\n",
       "      <td>0.0</td>\n",
       "      <td>0.0</td>\n",
       "      <td>0.0</td>\n",
       "      <td>4.25</td>\n",
       "      <td>0.0</td>\n",
       "      <td>0.0</td>\n",
       "      <td>0.0</td>\n",
       "      <td>5.0</td>\n",
       "      <td>0.0</td>\n",
       "    </tr>\n",
       "  </tbody>\n",
       "</table>\n",
       "<p>5 rows × 139 columns</p>\n",
       "</div>"
      ],
      "text/plain": [
       "Clothing ID  169   282   520   815   818   819   820   822   823   824   ...  \\\n",
       "Age                                                                      ...   \n",
       "18            0.0   0.0   0.0   0.0   0.0   0.0   0.0   0.0   0.0   0.0  ...   \n",
       "19            0.0   0.0   5.0   0.0   0.0   0.0   4.0   0.0   0.0   0.0  ...   \n",
       "20            5.0   0.0   0.0   0.0   0.0   0.0   0.0   0.0   0.0   0.0  ...   \n",
       "21            0.0   0.0   0.0   0.0   0.0   0.0   4.0   0.0   0.0   1.0  ...   \n",
       "22            0.0   0.0   0.0   0.0   0.0   5.0   0.0   0.0   5.0   0.0  ...   \n",
       "\n",
       "Clothing ID  1099  1100  1103  1104  1110  1111  1116  1121  1123  1126  \n",
       "Age                                                                      \n",
       "18            0.0   0.0   0.0   0.0  0.00   0.0   0.0   0.0   0.0   0.0  \n",
       "19            0.0   0.0   0.0   5.0  0.00   0.0   0.0   0.0   0.0   0.0  \n",
       "20            0.0   0.0   0.0   5.0  4.00   0.0   2.5   5.0   0.0   0.0  \n",
       "21            0.0   0.0   0.0   5.0  5.00   0.0   0.0   0.0   4.0   0.0  \n",
       "22            5.0   0.0   0.0   0.0  4.25   0.0   0.0   0.0   5.0   0.0  \n",
       "\n",
       "[5 rows x 139 columns]"
      ]
     },
     "execution_count": 78,
     "metadata": {},
     "output_type": "execute_result"
    }
   ],
   "source": [
    "ratings_matrix = new_df.pivot_table(values='Rating', index='Age', columns='Clothing ID', fill_value=0)\n",
    "ratings_matrix.head()"
   ]
  },
  {
   "cell_type": "code",
   "execution_count": 79,
   "id": "veterinary-religious",
   "metadata": {},
   "outputs": [],
   "source": [
    "Transpose = ratings_matrix.T"
   ]
  },
  {
   "cell_type": "code",
   "execution_count": 80,
   "id": "revolutionary-proof",
   "metadata": {},
   "outputs": [
    {
     "data": {
      "text/plain": [
       "907"
      ]
     },
     "execution_count": 80,
     "metadata": {},
     "output_type": "execute_result"
    }
   ],
   "source": [
    "from sklearn.decomposition import TruncatedSVD\n",
    "SVD = TruncatedSVD(n_components=10)\n",
    "new_matrix = SVD.fit_transform(Transpose)\n",
    "correlation_matrix = np.corrcoef(new_matrix)\n",
    "correlation_matrix.shape\n",
    "Transpose.index[54]"
   ]
  },
  {
   "cell_type": "code",
   "execution_count": 81,
   "id": "second-publicity",
   "metadata": {},
   "outputs": [
    {
     "data": {
      "text/plain": [
       "array([[13.91122127,  0.37796607, 11.0991782 , ...,  1.79922328,\n",
       "        -1.8541448 ,  2.00281208],\n",
       "       [14.83701527, -7.45932672, -1.87806313, ...,  0.53164068,\n",
       "         1.23709634,  2.10723643],\n",
       "       [12.42351148, -6.33254803,  3.86107237, ...,  1.14942899,\n",
       "        -1.72452844, -3.53108048],\n",
       "       ...,\n",
       "       [13.34334707, -0.0286285 , -0.54554829, ..., -4.11696726,\n",
       "        -3.56177618,  2.19753272],\n",
       "       [14.49882504, -4.97103823,  4.70558322, ...,  2.83729861,\n",
       "        -1.73708767, -1.84803733],\n",
       "       [16.70960194,  0.60711034,  8.9702769 , ..., -2.60293072,\n",
       "         3.01264646,  1.27710689]])"
      ]
     },
     "execution_count": 81,
     "metadata": {},
     "output_type": "execute_result"
    }
   ],
   "source": [
    "new_matrix.shape\n",
    "new_matrix\n"
   ]
  },
  {
   "cell_type": "code",
   "execution_count": 82,
   "id": "social-munich",
   "metadata": {},
   "outputs": [
    {
     "name": "stdout",
     "output_type": "stream",
     "text": [
      "[1.         0.50849734 0.66325671 0.69743741 0.7458835  0.65356066\n",
      " 0.64960945 0.52284718 0.66377202 0.71605734 0.70470721 0.79028263\n",
      " 0.66169333 0.68342773 0.59838964 0.62787031 0.76337844 0.66543077\n",
      " 0.69902427 0.7241701  0.35455037 0.49349509 0.61742461 0.79326805\n",
      " 0.68314045 0.68039034 0.43120192 0.65264359 0.67128661 0.66901892\n",
      " 0.698982   0.68208698 0.59842096 0.58159897 0.66825525 0.6448496\n",
      " 0.55405003 0.5950267  0.63532032 0.6963214  0.6748806  0.77274465\n",
      " 0.70763184 0.68941055 0.65920311 0.76343222 0.49022819 0.64669982\n",
      " 0.5076315  0.81107066 0.66317708 0.45562473 0.52498867 0.61059583\n",
      " 0.66137569 0.6626858  0.31537562 0.73795954 0.68547299 0.43107919\n",
      " 0.68166399 0.62299883 0.49559908 0.57752177 0.55445645 0.54379109\n",
      " 0.76013926 0.61349435 0.63029778 0.8723984  0.55470976 0.79960506\n",
      " 0.71726755 0.66647563 0.56554443 0.72647953 0.67378328 0.65704491\n",
      " 0.70370028 0.64952235 0.66979834 0.68783989 0.73316536 0.65280587\n",
      " 0.73093813 0.68573717 0.72752712 0.73976121 0.53505644 0.70164612\n",
      " 0.63600702 0.60513463 0.47907278 0.51593703 0.7005639  0.59575401\n",
      " 0.69440862 0.55895349 0.87177939 0.8507507  0.72131869 0.70950805\n",
      " 0.63162915 0.64322664 0.52514108 0.59525401 0.6016383  0.77102854\n",
      " 0.51238586 0.54778253 0.64814701 0.66371929 0.61786759 0.69938959\n",
      " 0.67460678 0.74746123 0.624232   0.5672559  0.66249524 0.64010777\n",
      " 0.75813103 0.63142956 0.58523899 0.59459957 0.58120347 0.66255847\n",
      " 0.64408316 0.57177955 0.82344739 0.75979629 0.61684474 0.44548443\n",
      " 0.70579784 0.65634556 0.64626115 0.49629025 0.72187834 0.70989805\n",
      " 0.87885137]\n"
     ]
    }
   ],
   "source": [
    "print(correlation_matrix[0])"
   ]
  },
  {
   "cell_type": "code",
   "execution_count": 83,
   "id": "balanced-prevention",
   "metadata": {},
   "outputs": [
    {
     "data": {
      "text/plain": [
       "[825, 875, 878, 974, 995, 1025, 1054, 1082, 1091, 1111]"
      ]
     },
     "execution_count": 83,
     "metadata": {},
     "output_type": "execute_result"
    }
   ],
   "source": [
    "product_names = list(Transpose.index)\n",
    "product_ID = product_names.index(974)\n",
    "correlation_product_ID = correlation_matrix[product_ID]\n",
    "Recommend = list(Transpose.index[correlation_product_ID > 0.9])\n",
    "Recommend[:10]"
   ]
  },
  {
   "cell_type": "markdown",
   "id": "scheduled-oriental",
   "metadata": {},
   "source": [
    "# Algorithm 3 -  CF Using K means\n"
   ]
  },
  {
   "cell_type": "code",
   "execution_count": 84,
   "id": "another-vegetarian",
   "metadata": {},
   "outputs": [],
   "source": [
    "from sklearn.feature_extraction.text import TfidfVectorizer, CountVectorizer\n",
    "from sklearn.neighbors import NearestNeighbors\n",
    "from sklearn.cluster import KMeans\n",
    "from sklearn.metrics import adjusted_rand_score"
   ]
  },
  {
   "cell_type": "code",
   "execution_count": 85,
   "id": "careful-jamaica",
   "metadata": {},
   "outputs": [],
   "source": [
    "data = data.dropna()\n"
   ]
  },
  {
   "cell_type": "code",
   "execution_count": 86,
   "id": "studied-remove",
   "metadata": {},
   "outputs": [
    {
     "data": {
      "text/html": [
       "<div>\n",
       "<style scoped>\n",
       "    .dataframe tbody tr th:only-of-type {\n",
       "        vertical-align: middle;\n",
       "    }\n",
       "\n",
       "    .dataframe tbody tr th {\n",
       "        vertical-align: top;\n",
       "    }\n",
       "\n",
       "    .dataframe thead th {\n",
       "        text-align: right;\n",
       "    }\n",
       "</style>\n",
       "<table border=\"1\" class=\"dataframe\">\n",
       "  <thead>\n",
       "    <tr style=\"text-align: right;\">\n",
       "      <th></th>\n",
       "      <th>Clothing ID</th>\n",
       "      <th>Review Text</th>\n",
       "      <th>Rating</th>\n",
       "    </tr>\n",
       "  </thead>\n",
       "  <tbody>\n",
       "    <tr>\n",
       "      <th>2</th>\n",
       "      <td>1077</td>\n",
       "      <td>I had such high hopes for this dress and reall...</td>\n",
       "      <td>3</td>\n",
       "    </tr>\n",
       "    <tr>\n",
       "      <th>3</th>\n",
       "      <td>1049</td>\n",
       "      <td>I love, love, love this jumpsuit. it's fun, fl...</td>\n",
       "      <td>5</td>\n",
       "    </tr>\n",
       "    <tr>\n",
       "      <th>4</th>\n",
       "      <td>847</td>\n",
       "      <td>This shirt is very flattering to all due to th...</td>\n",
       "      <td>5</td>\n",
       "    </tr>\n",
       "    <tr>\n",
       "      <th>5</th>\n",
       "      <td>1080</td>\n",
       "      <td>I love tracy reese dresses, but this one is no...</td>\n",
       "      <td>2</td>\n",
       "    </tr>\n",
       "    <tr>\n",
       "      <th>6</th>\n",
       "      <td>858</td>\n",
       "      <td>I aded this in my basket at hte last mintue to...</td>\n",
       "      <td>5</td>\n",
       "    </tr>\n",
       "    <tr>\n",
       "      <th>...</th>\n",
       "      <td>...</td>\n",
       "      <td>...</td>\n",
       "      <td>...</td>\n",
       "    </tr>\n",
       "    <tr>\n",
       "      <th>23481</th>\n",
       "      <td>1104</td>\n",
       "      <td>I was very happy to snag this dress at such a ...</td>\n",
       "      <td>5</td>\n",
       "    </tr>\n",
       "    <tr>\n",
       "      <th>23482</th>\n",
       "      <td>862</td>\n",
       "      <td>It reminds me of maternity clothes. soft, stre...</td>\n",
       "      <td>3</td>\n",
       "    </tr>\n",
       "    <tr>\n",
       "      <th>23483</th>\n",
       "      <td>1104</td>\n",
       "      <td>This fit well, but the top was very see throug...</td>\n",
       "      <td>3</td>\n",
       "    </tr>\n",
       "    <tr>\n",
       "      <th>23484</th>\n",
       "      <td>1084</td>\n",
       "      <td>I bought this dress for a wedding i have this ...</td>\n",
       "      <td>3</td>\n",
       "    </tr>\n",
       "    <tr>\n",
       "      <th>23485</th>\n",
       "      <td>1104</td>\n",
       "      <td>This dress in a lovely platinum is feminine an...</td>\n",
       "      <td>5</td>\n",
       "    </tr>\n",
       "  </tbody>\n",
       "</table>\n",
       "<p>19662 rows × 3 columns</p>\n",
       "</div>"
      ],
      "text/plain": [
       "       Clothing ID                                        Review Text  Rating\n",
       "2             1077  I had such high hopes for this dress and reall...       3\n",
       "3             1049  I love, love, love this jumpsuit. it's fun, fl...       5\n",
       "4              847  This shirt is very flattering to all due to th...       5\n",
       "5             1080  I love tracy reese dresses, but this one is no...       2\n",
       "6              858  I aded this in my basket at hte last mintue to...       5\n",
       "...            ...                                                ...     ...\n",
       "23481         1104  I was very happy to snag this dress at such a ...       5\n",
       "23482          862  It reminds me of maternity clothes. soft, stre...       3\n",
       "23483         1104  This fit well, but the top was very see throug...       3\n",
       "23484         1084  I bought this dress for a wedding i have this ...       3\n",
       "23485         1104  This dress in a lovely platinum is feminine an...       5\n",
       "\n",
       "[19662 rows x 3 columns]"
      ]
     },
     "execution_count": 86,
     "metadata": {},
     "output_type": "execute_result"
    }
   ],
   "source": [
    "df = data[['Clothing ID', 'Review Text', 'Rating']]\n",
    "df"
   ]
  },
  {
   "cell_type": "code",
   "execution_count": 87,
   "id": "agreed-seminar",
   "metadata": {},
   "outputs": [
    {
     "data": {
      "text/plain": [
       "<19662x13286 sparse matrix of type '<class 'numpy.float64'>'\n",
       "\twith 476893 stored elements in Compressed Sparse Row format>"
      ]
     },
     "execution_count": 87,
     "metadata": {},
     "output_type": "execute_result"
    }
   ],
   "source": [
    "vectorizer = TfidfVectorizer(stop_words='english')\n",
    "transformed = vectorizer.fit_transform(df[\"Review Text\"])\n",
    "transformed"
   ]
  },
  {
   "cell_type": "code",
   "execution_count": 88,
   "id": "metric-algebra",
   "metadata": {},
   "outputs": [
    {
     "data": {
      "image/png": "[encoded data removed]",
      "text/plain": [
       "<Figure size 432x288 with 1 Axes>"
      ]
     },
     "metadata": {
      "needs_background": "light"
     },
     "output_type": "display_data"
    }
   ],
   "source": [
    "temp = transformed\n",
    "kmeans = KMeans(n_clusters = 10, init = 'k-means++')\n",
    "y_kmeans = kmeans.fit_predict(temp)\n",
    "plt.plot(y_kmeans, \".\")\n",
    "plt.show()"
   ]
  },
  {
   "cell_type": "code",
   "execution_count": 60,
   "id": "organic-unknown",
   "metadata": {},
   "outputs": [
    {
     "name": "stdout",
     "output_type": "stream",
     "text": [
      "Top terms per cluster:\n",
      "Cluster 0:\n",
      " sweater\n",
      " love\n",
      " soft\n",
      " color\n",
      " wear\n",
      " great\n",
      " like\n",
      " just\n",
      " sleeves\n",
      " size\n",
      "Cluster 1:\n",
      " shirt\n",
      " love\n",
      " great\n",
      " wear\n",
      " like\n",
      " cute\n",
      " soft\n",
      " material\n",
      " little\n",
      " size\n",
      "Cluster 2:\n",
      " petite\n",
      " regular\n",
      " xs\n",
      " size\n",
      " length\n",
      " ordered\n",
      " dress\n",
      " fit\n",
      " tried\n",
      " like\n",
      "Cluster 3:\n",
      " love\n",
      " like\n",
      " fabric\n",
      " fit\n",
      " size\n",
      " just\n",
      " color\n",
      " wear\n",
      " flattering\n",
      " look\n",
      "Cluster 4:\n",
      " really\n",
      " like\n",
      " just\n",
      " love\n",
      " fabric\n",
      " fit\n",
      " size\n",
      " nice\n",
      " look\n",
      " pretty\n",
      "Cluster 5:\n",
      " great\n",
      " love\n",
      " fit\n",
      " looks\n",
      " color\n",
      " comfortable\n",
      " fits\n",
      " jeans\n",
      " wear\n",
      " dress\n",
      "Cluster 6:\n",
      " pants\n",
      " jeans\n",
      " pair\n",
      " fit\n",
      " love\n",
      " size\n",
      " wear\n",
      " perfect\n",
      " comfortable\n",
      " great\n",
      "Cluster 7:\n",
      " cute\n",
      " super\n",
      " love\n",
      " little\n",
      " comfortable\n",
      " size\n",
      " wear\n",
      " great\n",
      " like\n",
      " dress\n",
      "Cluster 8:\n",
      " small\n",
      " size\n",
      " medium\n",
      " large\n",
      " wear\n",
      " ordered\n",
      " runs\n",
      " usually\n",
      " fit\n",
      " love\n",
      "Cluster 9:\n",
      " dress\n",
      " love\n",
      " size\n",
      " fit\n",
      " wear\n",
      " like\n",
      " beautiful\n",
      " just\n",
      " fabric\n",
      " flattering\n"
     ]
    }
   ],
   "source": [
    "true_k = 10\n",
    "\n",
    "model = KMeans(n_clusters=true_k, init='k-means++', max_iter=100, n_init=1)\n",
    "model.fit(X1)\n",
    "\n",
    "print(\"Top terms per cluster:\")\n",
    "order_centroids = model.cluster_centers_.argsort()[:, ::-1]\n",
    "terms = vectorizer.get_feature_names()\n",
    "for i in range(true_k):\n",
    "    print(\"Cluster %d:\" % i),\n",
    "    for ind in order_centroids[i, :10]:\n",
    "        print(' %s' % terms[ind]),\n",
    "    print"
   ]
  },
  {
   "cell_type": "code",
   "execution_count": 107,
   "id": "prepared-flood",
   "metadata": {},
   "outputs": [
    {
     "name": "stdout",
     "output_type": "stream",
     "text": [
      "[0]\n"
     ]
    },
    {
     "data": {
      "text/plain": [
       "0"
      ]
     },
     "execution_count": 107,
     "metadata": {},
     "output_type": "execute_result"
    }
   ],
   "source": [
    "Y = vectorizer.transform([\"sweater\"])\n",
    "prediction = model.predict(Y)\n",
    "print(prediction)\n",
    "prediction[0]"
   ]
  },
  {
   "cell_type": "code",
   "execution_count": 109,
   "id": "stock-praise",
   "metadata": {},
   "outputs": [
    {
     "data": {
      "text/html": [
       "<div>\n",
       "<style scoped>\n",
       "    .dataframe tbody tr th:only-of-type {\n",
       "        vertical-align: middle;\n",
       "    }\n",
       "\n",
       "    .dataframe tbody tr th {\n",
       "        vertical-align: top;\n",
       "    }\n",
       "\n",
       "    .dataframe thead th {\n",
       "        text-align: right;\n",
       "    }\n",
       "</style>\n",
       "<table border=\"1\" class=\"dataframe\">\n",
       "  <thead>\n",
       "    <tr style=\"text-align: right;\">\n",
       "      <th></th>\n",
       "      <th>Clothing ID</th>\n",
       "      <th>cluster</th>\n",
       "    </tr>\n",
       "  </thead>\n",
       "  <tbody>\n",
       "    <tr>\n",
       "      <th>26</th>\n",
       "      <td>29</td>\n",
       "      <td>0</td>\n",
       "    </tr>\n",
       "    <tr>\n",
       "      <th>37</th>\n",
       "      <td>48</td>\n",
       "      <td>0</td>\n",
       "    </tr>\n",
       "    <tr>\n",
       "      <th>142</th>\n",
       "      <td>182</td>\n",
       "      <td>0</td>\n",
       "    </tr>\n",
       "    <tr>\n",
       "      <th>144</th>\n",
       "      <td>184</td>\n",
       "      <td>0</td>\n",
       "    </tr>\n",
       "    <tr>\n",
       "      <th>151</th>\n",
       "      <td>191</td>\n",
       "      <td>0</td>\n",
       "    </tr>\n",
       "  </tbody>\n",
       "</table>\n",
       "</div>"
      ],
      "text/plain": [
       "     Clothing ID  cluster\n",
       "26            29        0\n",
       "37            48        0\n",
       "142          182        0\n",
       "144          184        0\n",
       "151          191        0"
      ]
     },
     "execution_count": 109,
     "metadata": {},
     "output_type": "execute_result"
    }
   ],
   "source": [
    "cluster_map = pd.DataFrame()\n",
    "\n",
    "cluster_map['Clothing ID'] = data.index.values\n",
    "cluster_map['cluster'] = model.labels_\n",
    "cluster_map[cluster_map.cluster == prediction[0]].head()"
   ]
  },
  {
   "cell_type": "code",
   "execution_count": null,
   "id": "absent-gnome",
   "metadata": {},
   "outputs": [],
   "source": []
  },
  {
   "cell_type": "code",
   "execution_count": null,
   "id": "finished-messaging",
   "metadata": {},
   "outputs": [],
   "source": []
  }
 ],
 "metadata": {
  "kernelspec": {
   "display_name": "Python 3",
   "language": "python",
   "name": "python3"
  },
  "language_info": {
   "codemirror_mode": {
    "name": "ipython",
    "version": 3
   },
   "file_extension": ".py",
   "mimetype": "text/x-python",
   "name": "python",
   "nbconvert_exporter": "python",
   "pygments_lexer": "ipython3",
   "version": "3.7.6"
  }
 },
 "nbformat": 4,
 "nbformat_minor": 5
}
